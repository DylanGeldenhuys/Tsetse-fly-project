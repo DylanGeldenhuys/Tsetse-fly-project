{
 "cells": [
  {
   "cell_type": "code",
   "execution_count": 11,
   "metadata": {
    "collapsed": true
   },
   "outputs": [],
   "source": [
    "from PIL import Image\n",
    "import pandas as pd\n",
    "import sys\n",
    "from time import time\n",
    "\n",
    "import numpy as np\n",
    "import pandas as pd\n",
    "import matplotlib.pyplot as plt\n",
    "\n",
    "\n",
    "import matplotlib.pyplot as plt\n",
    "import matplotlib.image as mpimg\n",
    "from numpy import asarray\n",
    "\n",
    "main = \"/home/19065299/CV_DYLAN/tetseP/Dylan/\"#\"/home/dylan/Projects/Tetse_proj/Dylan/\"\n",
    "data_2 = \"/home/19065299/CV_DYLAN/tetseP/Dylan/2/\"\n",
    "imageWithLandmark = \"/home/19065299/CV_DYLAN/tetseP/Dylan/2/imageWithLandmark/\"\n",
    "C_data =  \"/home/19065299/CV_DYLAN/tetseP/Dylan/2/C_data/\"\n",
    "C_data2 = \"/home/19065299/CV_DYLAN/tetseP/Dylan/2/C_data2/\"\n"
   ]
  },
  {
   "cell_type": "code",
   "execution_count": 15,
   "metadata": {
    "collapsed": false
   },
   "outputs": [],
   "source": [
    "import os\n",
    "\n",
    "## NOTE!: \n",
    "#The code below was run once when the imageWithLandmark was manulay curated,The code block in Plotting_Landmarks undid this\n",
    "# DO NOT RUN AGAIN!\n",
    "'''\n",
    "#this foorloop saves the curated data set of images in C_data \n",
    "#using the manauly curated folder imageWithLandmark\n",
    "\n",
    "for filename in os.listdir(imageWithLandmark):\n",
    "    for file in os.listdir(data_2): \n",
    "         if filename.replace('png','jpg') == file:\n",
    "                im = Image.open(data_2  + file)\n",
    "                im.save(C_data + file)\n",
    "'''\n",
    "\n"
   ]
  },
  {
   "cell_type": "code",
   "execution_count": null,
   "metadata": {
    "collapsed": true
   },
   "outputs": [],
   "source": [
    "#in the manual curated one of the miss matches was missed, I Romved the mismatch manually\n",
    "# the code below generates the final curated data folder C_data2\n",
    "\n",
    "for filename in os.listdir(C_data):\n",
    "    for file in os.listdir(data_2): \n",
    "         if filename == file:\n",
    "                im = Image.open(data_2  + file)\n",
    "                im.save(C_data2 + file)"
   ]
  },
  {
   "cell_type": "code",
   "execution_count": 20,
   "metadata": {
    "collapsed": false
   },
   "outputs": [
    {
     "data": {
      "text/plain": [
       "(464, 25)"
      ]
     },
     "execution_count": 20,
     "metadata": {},
     "output_type": "execute_result"
    }
   ],
   "source": [
    "# now we must make a new text file with only the landmarks for the curated images.\n",
    "\n",
    "#first we make a dataframe from the cureent text file of landmarks\n",
    "\n",
    "df = pd.read_fwf(data_2 + 'refined_data.txt',header=None)\n",
    "which = lambda lst:list(np.where(lst)[0])\n",
    "new = df.iloc[:,4].str.split(\" \", n = 23, expand = True)\n",
    "df= df.drop(labels=4, axis=1)\n",
    "result = pd.concat([df, new], axis=1, sort=False)\n",
    "        # column numbers were messed up, make them go according to range\n",
    "result.columns = range(result.shape[1])\n",
    "result.reset_index(inplace=True, drop=True)\n",
    "\n",
    "text_data = result.copy() \n",
    "\n",
    "\n",
    "text_data.shape"
   ]
  },
  {
   "cell_type": "code",
   "execution_count": 18,
   "metadata": {
    "collapsed": false
   },
   "outputs": [],
   "source": [
    "new_text = pd.DataFrame([])\n",
    "for filename in os.listdir(C_data):\n",
    "    for j in range(text_data.shape[0]):\n",
    "        im_name = \" \".join(text_data.loc[j,[0,1,2]])\n",
    "        if filename == im_name:\n",
    "            #print(text_data.iloc[[j]])\n",
    "            new_text = new_text.append(text_data.iloc[[j]])\n",
    "\n",
    "new_text = new_text.reset_index(drop=True)\n",
    "new_text.to_csv('new_textFile.csv')"
   ]
  },
  {
   "cell_type": "code",
   "execution_count": 23,
   "metadata": {
    "collapsed": false
   },
   "outputs": [
    {
     "data": {
      "text/plain": [
       "(185, 25)"
      ]
     },
     "execution_count": 23,
     "metadata": {},
     "output_type": "execute_result"
    }
   ],
   "source": [
    "# displaying the new dataframe from the csv\n",
    "g = pd.read_csv(main + 'new_textFile.csv')\n",
    "g.drop(g.columns[[0]], axis=1, inplace=True)\n",
    "g.shape"
   ]
  }
 ],
 "metadata": {
  "kernelspec": {
   "display_name": "Python 3",
   "language": "python",
   "name": "python3"
  },
  "language_info": {
   "codemirror_mode": {
    "name": "ipython",
    "version": 3
   },
   "file_extension": ".py",
   "mimetype": "text/x-python",
   "name": "python",
   "nbconvert_exporter": "python",
   "pygments_lexer": "ipython3",
   "version": "3.5.2"
  }
 },
 "nbformat": 4,
 "nbformat_minor": 2
}
