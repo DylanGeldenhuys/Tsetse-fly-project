{
 "cells": [
  {
   "cell_type": "code",
   "execution_count": 1,
   "metadata": {},
   "outputs": [],
   "source": [
    "# Create pixel sampling function for a single image\n",
    "import numpy as np\n",
    "import pandas as pd\n",
    "\n",
    "def pix_sample(image, imgname, i):\n",
    "\n",
    "    coord_label_df = pd.DataFrame(columns=['label', 'coord', 'Image_name'])\n",
    "    x1landmark = float(result.loc[i,15])\n",
    "    y1landmark = float(result.loc[i,16])\n",
    "\n",
    "    R= 9 ### with R 9 the second plot is quite hard to tell whether it works \n",
    "    Rmax= 300\n",
    "\n",
    "    npospix = 100\n",
    "    nnegpix = 2*npospix\n",
    "\n",
    "    a = np.random.uniform(0,1,npospix) * 2 * np.pi\n",
    "    r = R * np.sqrt(np.random.uniform(0,1,npospix))\n",
    "\n",
    "    ## If you need it in Cartesian coordinates\n",
    "    xwithin = r * np.cos(a)\n",
    "    ywithin = r * np.sin(a)\n",
    "\n",
    "    outer_radius =Rmax*Rmax\n",
    "    inner_radius = R*R\n",
    "    rho= np.sqrt(np.random.uniform(inner_radius, \n",
    "                             outer_radius, size=nnegpix))\n",
    "\n",
    "    theta=  np.random.uniform( 0, 2*np.pi, nnegpix)\n",
    "    xhoop = rho * np.cos(theta)\n",
    "    yhoop = rho * np.sin(theta)\n",
    "\n",
    "    for i in range(len(xwithin)):\n",
    "        df2_within = pd.DataFrame({'label': ['pos'], 'coord': [(x1landmark + xwithin[i],y1landmark + ywithin[i])], 'Image_name':[imgname]})\n",
    "        coord_label_df = coord_label_df.append(df2_within)\n",
    "        #print(coord_label_df)\n",
    "    for i in range(len(xhoop)):\n",
    "        df2_hoop = pd.DataFrame({'label': ['neg'], 'coord': [(x1landmark + xhoop[i], y1landmark + yhoop[i])], 'Image_name': [imgname]})\n",
    "        coord_label_df = coord_label_df.append(df2_hoop)\n",
    "    return(coord_label_df)\n"
   ]
  }
 ],
 "metadata": {
  "kernelspec": {
   "display_name": "Python 3",
   "language": "python",
   "name": "python3"
  },
  "language_info": {
   "codemirror_mode": {
    "name": "ipython",
    "version": 3
   },
   "file_extension": ".py",
   "mimetype": "text/x-python",
   "name": "python",
   "nbconvert_exporter": "python",
   "pygments_lexer": "ipython3",
   "version": "3.6.8"
  }
 },
 "nbformat": 4,
 "nbformat_minor": 4
}
