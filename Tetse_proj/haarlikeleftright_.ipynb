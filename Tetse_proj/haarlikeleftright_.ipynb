{
 "cells": [
  {
   "cell_type": "code",
   "execution_count": 1,
   "metadata": {},
   "outputs": [],
   "source": [
    "# -*- coding: utf-8 -*-\n",
    "\"\"\"\n",
    "Created on Fri Jul 19 16:44:55 2019\n",
    "\n",
    "@author: jem\n",
    "\"\"\"\n",
    "\n",
    "#%matplotlib inline\n",
    "\n",
    "# Exploratory left/right classification using Haar-like feature descriptor\n",
    "\n",
    "\n",
    "\n",
    "# Face classification using Haar-like feature descripton\n",
    "import pandas as pd\n",
    "import sys\n",
    "from time import time\n",
    "\n",
    "### for ROC curve metrics\n",
    "from sklearn import metrics\n",
    "\n",
    "import numpy as np\n",
    "import pandas as pd\n",
    "import matplotlib.pyplot as plt\n",
    "\n",
    "from dask import delayed\n",
    "\n",
    "from sklearn.ensemble import RandomForestClassifier\n",
    "from sklearn.model_selection import train_test_split\n",
    "from sklearn.metrics import roc_auc_score\n",
    "\n",
    "from skimage.data import lfw_subset\n",
    "from skimage.transform import integral_image\n",
    "from skimage.feature import haar_like_feature\n",
    "from skimage.feature import haar_like_feature_coord\n",
    "from skimage.feature import draw_haar_like_feature\n",
    "\n",
    "import matplotlib.pyplot as plt\n",
    "import matplotlib.image as mpimg\n"
   ]
  },
  {
   "cell_type": "code",
   "execution_count": 2,
   "metadata": {},
   "outputs": [],
   "source": [
    "def rgb2gray(rgb):\n",
    "    return np.dot(rgb[...,:3], [0.2989, 0.5870, 0.1140])\n",
    "\n",
    "\n",
    "import os\n",
    "import numpy as np\n",
    "from PIL import Image\n",
    "\n",
    "#directories\n",
    "main = \"/home/dylan/Projects/Tetse_proj/\"\n",
    "data_2 = \"/home/dylan/Projects/Tetse_proj/2/\"\n",
    "data_2_small = \"/home/dylan/Projects/Tetse_proj/2/2_small/\"\n",
    "\n",
    "\n"
   ]
  },
  {
   "cell_type": "code",
   "execution_count": 3,
   "metadata": {},
   "outputs": [
    {
     "name": "stdout",
     "output_type": "stream",
     "text": [
      "464\n"
     ]
    }
   ],
   "source": [
    "\n",
    "df = pd.read_fwf(data_2 + 'refined_data.txt',header=None)\n",
    "print(len(df))"
   ]
  },
  {
   "cell_type": "code",
   "execution_count": 4,
   "metadata": {},
   "outputs": [],
   "source": [
    "#Read in Label data (result), set wd, test image read-into numpy array\n",
    "\n",
    "\n",
    "df = pd.read_fwf(data_2 + 'refined_data.txt',header=None)\n",
    "#?pd.read_fwf\n",
    "# which function\n",
    "which = lambda lst:list(np.where(lst)[0])\n",
    "\n",
    "new = df.iloc[:,4].str.split(\" \", n = 23, expand = True)\n",
    "\n",
    "df= df.drop(labels=4, axis=1)\n",
    "\n",
    "result = pd.concat([df, new], axis=1, sort=False)\n",
    "\n",
    "# column numbers were messed up, make them go according to range\n",
    "result.columns = range(result.shape[1])\n",
    "\n",
    "result.reset_index(inplace=True, drop=True)\n"
   ]
  },
  {
   "cell_type": "code",
   "execution_count": 5,
   "metadata": {},
   "outputs": [],
   "source": [
    "\n",
    "#read in all pictures based on the names in refined_data.txt, \n",
    "#resize them to \"thumbnails\"\n",
    "#and save them to a hard-coded (for now) folder called 2_small using the same names as the originals\n",
    "# (so that the labelling doesn't need adjustment)\n",
    "# we also manually copied refined_data.txt into the 2_small folder for now\n",
    "#print(os.getcwd())\n",
    "\n",
    "for x in result.index:\n",
    "    imgname=\" \".join(result.loc[x,[0,1,2]])\n",
    "    #file, ext = os.path.splitext(imgname)\n",
    "    im = Image.open(data_2 + imgname)\n",
    "    im.thumbnail([22,22])    #### CHANGE HERE!!!!  !!!!!! ######\n",
    "#    os.chdir(\"Projects/Tetse_proj/2/2_small\")   #### \n",
    "    im.save(data_2_small + imgname)\n",
    "##    print(np.as.ndarray(im))\n",
    "#    os.chdir(\"..\\\\\")\n"
   ]
  },
  {
   "cell_type": "code",
   "execution_count": 6,
   "metadata": {},
   "outputs": [],
   "source": [
    "# make all images greyscale\n",
    "for x in result.index:\n",
    "    imgname=\" \".join(result.loc[x,[0,1,2]])\n",
    "#    file, ext = os.path.splitext(imgname)\n",
    "    img = mpimg.imread(data_2_small + imgname)     \n",
    "    I = rgb2gray(img)  #make it greyscale\n",
    "    I8 = (((I-I.min()) / (I.max() - I.min())) * 255.9).astype(np.uint8) # the next few lines help us save the images as true greyscale (ie. each image is 2 dimensional)\n",
    "    greyimg = Image.fromarray(I8)\n",
    "    rescaledwidth, rescaledheight = np.shape(greyimg)\n",
    "    greyimg.save(data_2_small  + 'bw/' + imgname)\n",
    "    #print(np.shape(mpimg.imread(imgname)))\n"
   ]
  },
  {
   "cell_type": "code",
   "execution_count": 8,
   "metadata": {},
   "outputs": [
    {
     "name": "stdout",
     "output_type": "stream",
     "text": [
      "(1024, 1280, 3)\n"
     ]
    }
   ],
   "source": [
    "#### creates fullset containing all the pictures\n",
    "#### access the first picture by fullset[1] \n",
    "\n",
    "# get rescaled width and height\n",
    "imgname=\" \".join(result.loc[5,[0,1,2]])\n",
    "img = mpimg.imread(data_2 + imgname) \n",
    "print(np.shape(img))\n",
    "rescaledwidth, rescaledheight, pix = np.shape(img)\n",
    "#print(type(rescaledwidth), type(rescaledheight), type(pix))\n",
    " \n",
    "fullset = {}\n",
    "\n",
    "\n",
    "for i in result.index:\n",
    "    fullset[i] = mpimg.imread(data_2_small  + \" \".join(result.loc[i,[0,1,2]]))\n",
    "\n",
    "for i in result.index:\n",
    "    fullset[i]/255.9  # not sure why we do this and what the nan error is about\n",
    "\n",
    "images = fullset.copy()\n",
    "\n",
    "#print(type(images[1]))\n",
    "#print(images[1].shape)\n",
    "\n",
    "y = np.ndarray([2,3])\n",
    "#print(type(y))"
   ]
  },
  {
   "cell_type": "code",
   "execution_count": 8,
   "metadata": {},
   "outputs": [],
   "source": [
    "### create outcome vector y as in the example\n",
    "### y contains a vector of TRUE and FALSE, TRUE indicates left wings\n",
    "y= result.loc[:,0]==\"A002\"\n",
    "y=np.asarray(y)\n"
   ]
  },
  {
   "cell_type": "code",
   "execution_count": 9,
   "metadata": {},
   "outputs": [
    {
     "ename": "TypeError",
     "evalue": "No matching signature found",
     "output_type": "error",
     "traceback": [
      "\u001b[0;31m---------------------------------------------------------------------------\u001b[0m",
      "\u001b[0;31mTypeError\u001b[0m                                 Traceback (most recent call last)",
      "\u001b[0;32m<ipython-input-9-ca7fe951081a>\u001b[0m in \u001b[0;36m<module>\u001b[0;34m\u001b[0m\n\u001b[1;32m     15\u001b[0m \u001b[0;31m# CPU cores later during the actual computation\u001b[0m\u001b[0;34m\u001b[0m\u001b[0;34m\u001b[0m\u001b[0;34m\u001b[0m\u001b[0m\n\u001b[1;32m     16\u001b[0m \u001b[0mplt\u001b[0m\u001b[0;34m.\u001b[0m\u001b[0mimshow\u001b[0m\u001b[0;34m(\u001b[0m\u001b[0mimages\u001b[0m\u001b[0;34m[\u001b[0m\u001b[0;36m1\u001b[0m\u001b[0;34m]\u001b[0m\u001b[0;34m)\u001b[0m\u001b[0;34m\u001b[0m\u001b[0;34m\u001b[0m\u001b[0m\n\u001b[0;32m---> 17\u001b[0;31m \u001b[0mX\u001b[0m \u001b[0;34m=\u001b[0m \u001b[0mdelayed\u001b[0m\u001b[0;34m(\u001b[0m\u001b[0mextract_feature_image\u001b[0m\u001b[0;34m(\u001b[0m\u001b[0mimg\u001b[0m\u001b[0;34m,\u001b[0m \u001b[0mfeature_types\u001b[0m\u001b[0;34m)\u001b[0m\u001b[0;34m)\u001b[0m\u001b[0;34m\u001b[0m\u001b[0;34m\u001b[0m\u001b[0m\n\u001b[0m\u001b[1;32m     18\u001b[0m \u001b[0mprint\u001b[0m\u001b[0;34m(\u001b[0m\u001b[0mX\u001b[0m\u001b[0;34m.\u001b[0m\u001b[0mmax\u001b[0m\u001b[0;34m(\u001b[0m\u001b[0;34m)\u001b[0m\u001b[0;34m)\u001b[0m\u001b[0;34m\u001b[0m\u001b[0;34m\u001b[0m\u001b[0m\n",
      "\u001b[0;32m<ipython-input-9-ca7fe951081a>\u001b[0m in \u001b[0;36mextract_feature_image\u001b[0;34m(img, feature_type, feature_coord)\u001b[0m\n\u001b[1;32m      4\u001b[0m     return haar_like_feature(ii, 0, 0, ii.shape[0], ii.shape[1],\n\u001b[1;32m      5\u001b[0m                              \u001b[0mfeature_type\u001b[0m\u001b[0;34m=\u001b[0m\u001b[0mfeature_type\u001b[0m\u001b[0;34m,\u001b[0m\u001b[0;34m\u001b[0m\u001b[0;34m\u001b[0m\u001b[0m\n\u001b[0;32m----> 6\u001b[0;31m                              feature_coord=None)\n\u001b[0m\u001b[1;32m      7\u001b[0m \u001b[0;34m\u001b[0m\u001b[0m\n\u001b[1;32m      8\u001b[0m \u001b[0;34m\u001b[0m\u001b[0m\n",
      "\u001b[0;32m~/.local/lib/python3.6/site-packages/skimage/feature/haar.py\u001b[0m in \u001b[0;36mhaar_like_feature\u001b[0;34m(int_image, r, c, width, height, feature_type, feature_coord)\u001b[0m\n\u001b[1;32m    199\u001b[0m             haar_like_feature_wrapper(int_image, r, c, width, height, feat_t,\n\u001b[1;32m    200\u001b[0m                                       feature_coord)\n\u001b[0;32m--> 201\u001b[0;31m             for feat_t in feature_type_)))\n\u001b[0m\u001b[1;32m    202\u001b[0m     \u001b[0;32melse\u001b[0m\u001b[0;34m:\u001b[0m\u001b[0;34m\u001b[0m\u001b[0;34m\u001b[0m\u001b[0m\n\u001b[1;32m    203\u001b[0m         \u001b[0;32mif\u001b[0m \u001b[0mfeature_coord\u001b[0m\u001b[0;34m.\u001b[0m\u001b[0mshape\u001b[0m\u001b[0;34m[\u001b[0m\u001b[0;36m0\u001b[0m\u001b[0;34m]\u001b[0m \u001b[0;34m!=\u001b[0m \u001b[0mfeature_type\u001b[0m\u001b[0;34m.\u001b[0m\u001b[0mshape\u001b[0m\u001b[0;34m[\u001b[0m\u001b[0;36m0\u001b[0m\u001b[0;34m]\u001b[0m\u001b[0;34m:\u001b[0m\u001b[0;34m\u001b[0m\u001b[0;34m\u001b[0m\u001b[0m\n",
      "\u001b[0;32m~/.local/lib/python3.6/site-packages/skimage/feature/haar.py\u001b[0m in \u001b[0;36m<genexpr>\u001b[0;34m(.0)\u001b[0m\n\u001b[1;32m    199\u001b[0m             haar_like_feature_wrapper(int_image, r, c, width, height, feat_t,\n\u001b[1;32m    200\u001b[0m                                       feature_coord)\n\u001b[0;32m--> 201\u001b[0;31m             for feat_t in feature_type_)))\n\u001b[0m\u001b[1;32m    202\u001b[0m     \u001b[0;32melse\u001b[0m\u001b[0;34m:\u001b[0m\u001b[0;34m\u001b[0m\u001b[0;34m\u001b[0m\u001b[0m\n\u001b[1;32m    203\u001b[0m         \u001b[0;32mif\u001b[0m \u001b[0mfeature_coord\u001b[0m\u001b[0;34m.\u001b[0m\u001b[0mshape\u001b[0m\u001b[0;34m[\u001b[0m\u001b[0;36m0\u001b[0m\u001b[0;34m]\u001b[0m \u001b[0;34m!=\u001b[0m \u001b[0mfeature_type\u001b[0m\u001b[0;34m.\u001b[0m\u001b[0mshape\u001b[0m\u001b[0;34m[\u001b[0m\u001b[0;36m0\u001b[0m\u001b[0;34m]\u001b[0m\u001b[0;34m:\u001b[0m\u001b[0;34m\u001b[0m\u001b[0;34m\u001b[0m\u001b[0m\n",
      "\u001b[0;32mskimage/feature/_haar.pyx\u001b[0m in \u001b[0;36mskimage.feature._haar.__pyx_fused_cpdef\u001b[0;34m()\u001b[0m\n",
      "\u001b[0;31mTypeError\u001b[0m: No matching signature found"
     ]
    },
    {
     "data": {
      "image/png": "[encoded data removed]",
      "text/plain": [
       "<Figure size 432x288 with 1 Axes>"
      ]
     },
     "metadata": {
      "needs_background": "light"
     },
     "output_type": "display_data"
    }
   ],
   "source": [
    "def extract_feature_image(img, feature_type, feature_coord=None):\n",
    "    \"\"\"Extract the haar feature for the current image\"\"\"\n",
    "    ii = integral_image(img)\n",
    "    return haar_like_feature(ii, 0, 0, ii.shape[0], ii.shape[1],\n",
    "                             feature_type=feature_type,\n",
    "                             feature_coord=None)\n",
    "\n",
    "\n",
    "#?haar_like_feature\n",
    "\n",
    "# To speed up the example, extract the two types of features only\n",
    "feature_types = ['type-4', 'type-2-x', 'type-2-y']\n",
    "\n",
    "# Build a computation graph using Dask. This allows the use of multiple\n",
    "# CPU cores later during the actual computation\n",
    "plt.imshow(images[1])\n",
    "X = delayed(extract_feature_image(img, feature_types))\n",
    "print(X.max())"
   ]
  },
  {
   "cell_type": "code",
   "execution_count": null,
   "metadata": {},
   "outputs": [],
   "source": []
  }
 ],
 "metadata": {
  "kernelspec": {
   "display_name": "Python 3",
   "language": "python",
   "name": "python3"
  },
  "language_info": {
   "codemirror_mode": {
    "name": "ipython",
    "version": 3
   },
   "file_extension": ".py",
   "mimetype": "text/x-python",
   "name": "python",
   "nbconvert_exporter": "python",
   "pygments_lexer": "ipython3",
   "version": "3.6.8"
  }
 },
 "nbformat": 4,
 "nbformat_minor": 4
}
